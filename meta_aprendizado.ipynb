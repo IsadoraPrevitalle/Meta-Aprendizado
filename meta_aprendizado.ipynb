{
  "nbformat": 4,
  "nbformat_minor": 0,
  "metadata": {
    "colab": {
      "provenance": [],
      "authorship_tag": "ABX9TyNkD2BqGQlVBYe6BliDdt8D",
      "include_colab_link": true
    },
    "kernelspec": {
      "name": "python3",
      "display_name": "Python 3"
    },
    "language_info": {
      "name": "python"
    }
  },
  "cells": [
    {
      "cell_type": "markdown",
      "metadata": {
        "id": "view-in-github",
        "colab_type": "text"
      },
      "source": [
        "<a href=\"https://colab.research.google.com/github/IsadoraPrevitalle/Meta-Aprendizado/blob/main/meta_aprendizado.ipynb\" target=\"_parent\"><img src=\"https://colab.research.google.com/assets/colab-badge.svg\" alt=\"Open In Colab\"/></a>"
      ]
    },
    {
      "cell_type": "code",
      "source": [
        "import numpy as np\n",
        "from sklearn.datasets import make_classification\n",
        "from sklearn.model_selection import cross_val_score\n",
        "from sklearn.linear_model import LogisticRegression, Perceptron\n",
        "from sklearn.tree import DecisionTreeClassifier\n",
        "from sklearn.ensemble import RandomForestClassifier\n",
        "from sklearn.neighbors import KNeighborsClassifier\n",
        "from sklearn.svm import SVC\n",
        "from sklearn.naive_bayes import GaussianNB\n",
        "from sklearn.ensemble import GradientBoostingClassifier"
      ],
      "metadata": {
        "id": "Yo8s0MBukIzX"
      },
      "execution_count": 2,
      "outputs": []
    },
    {
      "cell_type": "code",
      "source": [
        "# Criar um conjunto de dados ficticios\n",
        "\n",
        "X, y = make_classification(n_samples=10000, n_features=20, n_classes=2, random_state=42)"
      ],
      "metadata": {
        "id": "d1VHNooAoB0Q"
      },
      "execution_count": 3,
      "outputs": []
    },
    {
      "cell_type": "code",
      "source": [
        "# Define os algoritmos de classificação\n",
        "\n",
        "algoritmos = {\n",
        "    'Regressão Logística': LogisticRegression(),\n",
        "    'Árvore de Decisão': DecisionTreeClassifier(),\n",
        "    'Floresta Aleatória': RandomForestClassifier(),\n",
        "    'K-Vizinhos mais Próximos': KNeighborsClassifier(),\n",
        "    'SVM': SVC(),\n",
        "    'Naive Bayes': GaussianNB(),\n",
        "    'Gradiente Boosting': GradientBoostingClassifier(),\n",
        "    'Perceptron': Perceptron()\n",
        "}"
      ],
      "metadata": {
        "id": "Hnm4lEDDpI7I"
      },
      "execution_count": 4,
      "outputs": []
    },
    {
      "cell_type": "markdown",
      "source": [
        "EXEMPLO 1"
      ],
      "metadata": {
        "id": "EDQscEyvpm7W"
      }
    },
    {
      "cell_type": "code",
      "source": [
        "#Realizar validações cruzada para cada algoritmo\n",
        "\n",
        "resultados = {}\n",
        "for nome, algoritmo in algoritmos.items():\n",
        "    scores = cross_val_score(algoritmo, X, y, cv=5, scoring='accuracy')\n",
        "    resultados[nome] = scores.mean()\n",
        "\n",
        "#Selecionar o algoritmo com a melhor pontuação média\n",
        "\n",
        "melhor_algoritmo = max(resultados, key=resultados.get)\n",
        "print(f\"O melhor algoritmo é: {melhor_algoritmo} com uma pontuação média de {resultados[melhor_algoritmo]:.2f}\")"
      ],
      "metadata": {
        "colab": {
          "base_uri": "https://localhost:8080/"
        },
        "id": "CXuNY5TsposU",
        "outputId": "c83f77fc-7d13-4073-a4cf-b81c4ec5e5ce"
      },
      "execution_count": 5,
      "outputs": [
        {
          "output_type": "stream",
          "name": "stdout",
          "text": [
            "O melhor algoritmo é: Floresta Aleatória com uma pontuação média de 0.94\n"
          ]
        }
      ]
    },
    {
      "cell_type": "markdown",
      "source": [
        "EXEMPLO 2"
      ],
      "metadata": {
        "id": "TjS_-MMlqGCw"
      }
    },
    {
      "cell_type": "code",
      "source": [
        "#Criar um conjunto de dados ficticios com 10.000 amostras, 12 caracteristicas e 4 classes\n",
        "\n",
        "X, y = make_classification(n_samples=10000, n_features=12, n_classes=4, n_clusters_per_class = 1,random_state=42)"
      ],
      "metadata": {
        "id": "-_dVudkqqFAQ"
      },
      "execution_count": 13,
      "outputs": []
    },
    {
      "cell_type": "code",
      "source": [
        "from sklearn.model_selection import GroupKFold\n",
        "resultados = {}\n",
        "for nome, algoritmo in algoritmos.items():\n",
        "    cv = GroupKFold(n_splits=5)\n",
        "    scores = cross_val_score(algoritmo, X, y, cv=cv, groups=np.random.randint(0, 10, X.shape[0]), scoring='accuracy')\n",
        "    resultados[nome] = scores.mean()\n",
        "\n",
        "melhor_algoritmo = max(resultados, key=resultados.get)\n",
        "print(f\"O melhor algoritmo é: {melhor_algoritmo} com uma pontuação média de {resultados[melhor_algoritmo]:.2f}\")"
      ],
      "metadata": {
        "colab": {
          "base_uri": "https://localhost:8080/"
        },
        "id": "lRQUttIlCTSs",
        "outputId": "7bd4eca2-fd24-4a3d-9ad0-9576c564005a"
      },
      "execution_count": 15,
      "outputs": [
        {
          "output_type": "stream",
          "name": "stdout",
          "text": [
            "O melhor algoritmo é: Floresta Aleatória com uma pontuação média de 0.90\n"
          ]
        }
      ]
    },
    {
      "cell_type": "markdown",
      "source": [
        "EXEMPLO 3"
      ],
      "metadata": {
        "id": "_1LBeWDmqbmb"
      }
    },
    {
      "cell_type": "code",
      "source": [
        "# Criar um conjunto de dados ficticios com 10.000 amostras, 20 caracteristicas e 2 classes\n",
        "\n",
        "X, y = make_classification(n_samples=10000, n_features=30, n_classes=2, random_state=42)"
      ],
      "metadata": {
        "id": "pdzvhJwBqXRv"
      },
      "execution_count": 19,
      "outputs": []
    },
    {
      "cell_type": "code",
      "source": [
        "from sklearn.model_selection import GroupKFold\n",
        "resultados = {}\n",
        "for nome, algoritmo in algoritmos.items():\n",
        "    cv = GroupKFold(n_splits=5)\n",
        "    scores = cross_val_score(algoritmo, X, y, cv=cv, groups=np.random.randint(0, 8, X.shape[0]), scoring='accuracy')\n",
        "    resultados[nome] = scores.mean()\n",
        "\n",
        "melhor_algoritmo = max(resultados, key=resultados.get)\n",
        "print(f\"O melhor algoritmo é: {melhor_algoritmo} com uma pontuação média de {resultados[melhor_algoritmo]:.2f}\")"
      ],
      "metadata": {
        "id": "bz-UZS2uqlM_",
        "colab": {
          "base_uri": "https://localhost:8080/"
        },
        "outputId": "f8580a86-4567-42e1-aeeb-bfafcb34d5bc"
      },
      "execution_count": 25,
      "outputs": [
        {
          "output_type": "stream",
          "name": "stdout",
          "text": [
            "O melhor algoritmo é: Gradiente Boosting com uma pontuação média de 0.93\n"
          ]
        }
      ]
    },
    {
      "cell_type": "markdown",
      "source": [
        "EXEMPLO 4"
      ],
      "metadata": {
        "id": "vUr8tXZlrWCD"
      }
    },
    {
      "cell_type": "code",
      "source": [
        "# Inicializar variaveis para armazenar o menor tempo e o melhor algoritmo\n",
        "import time\n",
        "from sklearn.model_selection import cross_val_score\n",
        "\n",
        "menor_tempo = float('inf')\n",
        "melhor_algoritmo = None\n",
        "\n",
        "# Treinar cada algoritmo e medir o tempo de treinamento\n",
        "for nome, algoritmo in algoritmos.items():\n",
        "    inicio = time.time()\n",
        "    scores = cross_val_score(algoritmo, X, y, cv=5, scoring='accuracy')\n",
        "    fim = time.time()\n",
        "    tempo_treinamento = fim - inicio\n",
        "    media_acuracia = scores.mean()\n",
        "\n",
        "    # Atualizar o menor tempo e o melhor algoritmo\n",
        "    if tempo_treinamento < menor_tempo:\n",
        "        menor_tempo = tempo_treinamento\n",
        "        melhor_algoritmo = (nome, media_acuracia)\n",
        "\n",
        "# Exibir o melhor algoritmo e seus resultados\n",
        "print(f'O melhor Algoritmo é {melhor_algoritmo[0]} com uma pontuação de {melhor_algoritmo[1]:.2f} e tempo de treinamento de {menor_tempo:.2f} segundos')"
      ],
      "metadata": {
        "colab": {
          "base_uri": "https://localhost:8080/"
        },
        "id": "fvca-FKirMJ5",
        "outputId": "da74c424-a7d6-4958-fb4e-1c57402bc525"
      },
      "execution_count": 28,
      "outputs": [
        {
          "output_type": "stream",
          "name": "stdout",
          "text": [
            "O melhor Algoritmo é Naive Bayes com uma pontuação de 0.88 e tempo de treinamento de 0.05 segundos\n"
          ]
        }
      ]
    }
  ]
}